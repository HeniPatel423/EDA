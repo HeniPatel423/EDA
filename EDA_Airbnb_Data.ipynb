{
 "cells": [
  {
   "cell_type": "markdown",
   "id": "3c5c042a",
   "metadata": {},
   "source": [
    "# Airbnb Data"
   ]
  },
  {
   "cell_type": "markdown",
   "id": "bca3515d",
   "metadata": {},
   "source": [
    "## Importing Libraries"
   ]
  },
  {
   "cell_type": "code",
   "execution_count": 40,
   "id": "55f699a0",
   "metadata": {},
   "outputs": [],
   "source": [
    "#importing the required libraries\n",
    "\n",
    "import numpy as np\n",
    "import pandas as pd\n",
    "\n",
    "# data visualisation\n",
    "import seaborn as sns\n",
    "import matplotlib.pyplot as plt\n",
    "%matplotlib inline\n",
    "\n",
    "from matplotlib import pyplot as plt\n",
    "from matplotlib import style\n",
    "import plotly.express as px"
   ]
  },
  {
   "cell_type": "markdown",
   "id": "32757a88",
   "metadata": {},
   "source": [
    "## Loading Data into Pandas DataFrame"
   ]
  },
  {
   "cell_type": "code",
   "execution_count": 41,
   "id": "c45111f4",
   "metadata": {},
   "outputs": [
    {
     "data": {
      "text/html": [
       "<div>\n",
       "<style scoped>\n",
       "    .dataframe tbody tr th:only-of-type {\n",
       "        vertical-align: middle;\n",
       "    }\n",
       "\n",
       "    .dataframe tbody tr th {\n",
       "        vertical-align: top;\n",
       "    }\n",
       "\n",
       "    .dataframe thead th {\n",
       "        text-align: right;\n",
       "    }\n",
       "</style>\n",
       "<table border=\"1\" class=\"dataframe\">\n",
       "  <thead>\n",
       "    <tr style=\"text-align: right;\">\n",
       "      <th></th>\n",
       "      <th>id</th>\n",
       "      <th>name</th>\n",
       "      <th>host_id</th>\n",
       "      <th>host_name</th>\n",
       "      <th>neighbourhood_group</th>\n",
       "      <th>neighbourhood</th>\n",
       "      <th>latitude</th>\n",
       "      <th>longitude</th>\n",
       "      <th>room_type</th>\n",
       "      <th>price</th>\n",
       "      <th>minimum_nights</th>\n",
       "      <th>number_of_reviews</th>\n",
       "      <th>last_review</th>\n",
       "      <th>reviews_per_month</th>\n",
       "      <th>calculated_host_listings_count</th>\n",
       "      <th>availability_365</th>\n",
       "      <th>number_of_reviews_ltm</th>\n",
       "      <th>license</th>\n",
       "    </tr>\n",
       "  </thead>\n",
       "  <tbody>\n",
       "    <tr>\n",
       "      <th>0</th>\n",
       "      <td>108061</td>\n",
       "      <td>Rental unit in Asheville · ★4.51 · 1 bedroom ·...</td>\n",
       "      <td>320564</td>\n",
       "      <td>Lisa</td>\n",
       "      <td>NaN</td>\n",
       "      <td>28801</td>\n",
       "      <td>35.60670</td>\n",
       "      <td>-82.55563</td>\n",
       "      <td>Entire home/apt</td>\n",
       "      <td>100</td>\n",
       "      <td>30</td>\n",
       "      <td>92</td>\n",
       "      <td>2022-12-11</td>\n",
       "      <td>0.64</td>\n",
       "      <td>2</td>\n",
       "      <td>319</td>\n",
       "      <td>2</td>\n",
       "      <td>NaN</td>\n",
       "    </tr>\n",
       "    <tr>\n",
       "      <th>1</th>\n",
       "      <td>155305</td>\n",
       "      <td>Guesthouse in Asheville · ★4.59 · 1 bedroom · ...</td>\n",
       "      <td>746673</td>\n",
       "      <td>BonPaul</td>\n",
       "      <td>NaN</td>\n",
       "      <td>28806</td>\n",
       "      <td>35.57864</td>\n",
       "      <td>-82.59578</td>\n",
       "      <td>Entire home/apt</td>\n",
       "      <td>101</td>\n",
       "      <td>1</td>\n",
       "      <td>389</td>\n",
       "      <td>2023-06-11</td>\n",
       "      <td>2.69</td>\n",
       "      <td>7</td>\n",
       "      <td>342</td>\n",
       "      <td>30</td>\n",
       "      <td>NaN</td>\n",
       "    </tr>\n",
       "    <tr>\n",
       "      <th>2</th>\n",
       "      <td>156805</td>\n",
       "      <td>Home in Asheville · ★4.52 · 1 bedroom · 1 bed ...</td>\n",
       "      <td>746673</td>\n",
       "      <td>BonPaul</td>\n",
       "      <td>NaN</td>\n",
       "      <td>28806</td>\n",
       "      <td>35.57864</td>\n",
       "      <td>-82.59578</td>\n",
       "      <td>Private room</td>\n",
       "      <td>66</td>\n",
       "      <td>1</td>\n",
       "      <td>67</td>\n",
       "      <td>2020-01-01</td>\n",
       "      <td>0.47</td>\n",
       "      <td>7</td>\n",
       "      <td>0</td>\n",
       "      <td>0</td>\n",
       "      <td>NaN</td>\n",
       "    </tr>\n",
       "    <tr>\n",
       "      <th>3</th>\n",
       "      <td>156926</td>\n",
       "      <td>Hostel in Asheville · ★4.69 · 1 bedroom · 6 be...</td>\n",
       "      <td>746673</td>\n",
       "      <td>BonPaul</td>\n",
       "      <td>NaN</td>\n",
       "      <td>28806</td>\n",
       "      <td>35.57864</td>\n",
       "      <td>-82.59578</td>\n",
       "      <td>Shared room</td>\n",
       "      <td>28</td>\n",
       "      <td>1</td>\n",
       "      <td>327</td>\n",
       "      <td>2023-06-05</td>\n",
       "      <td>2.28</td>\n",
       "      <td>7</td>\n",
       "      <td>365</td>\n",
       "      <td>19</td>\n",
       "      <td>NaN</td>\n",
       "    </tr>\n",
       "    <tr>\n",
       "      <th>4</th>\n",
       "      <td>197263</td>\n",
       "      <td>Home in Asheville · ★4.96 · 1 bedroom · 1 bed ...</td>\n",
       "      <td>961396</td>\n",
       "      <td>Timo</td>\n",
       "      <td>NaN</td>\n",
       "      <td>28806</td>\n",
       "      <td>35.57808</td>\n",
       "      <td>-82.63689</td>\n",
       "      <td>Private room</td>\n",
       "      <td>45</td>\n",
       "      <td>2</td>\n",
       "      <td>68</td>\n",
       "      <td>2023-05-28</td>\n",
       "      <td>0.51</td>\n",
       "      <td>2</td>\n",
       "      <td>82</td>\n",
       "      <td>15</td>\n",
       "      <td>NaN</td>\n",
       "    </tr>\n",
       "  </tbody>\n",
       "</table>\n",
       "</div>"
      ],
      "text/plain": [
       "       id                                               name  host_id  \\\n",
       "0  108061  Rental unit in Asheville · ★4.51 · 1 bedroom ·...   320564   \n",
       "1  155305  Guesthouse in Asheville · ★4.59 · 1 bedroom · ...   746673   \n",
       "2  156805  Home in Asheville · ★4.52 · 1 bedroom · 1 bed ...   746673   \n",
       "3  156926  Hostel in Asheville · ★4.69 · 1 bedroom · 6 be...   746673   \n",
       "4  197263  Home in Asheville · ★4.96 · 1 bedroom · 1 bed ...   961396   \n",
       "\n",
       "  host_name  neighbourhood_group  neighbourhood  latitude  longitude  \\\n",
       "0      Lisa                  NaN          28801  35.60670  -82.55563   \n",
       "1   BonPaul                  NaN          28806  35.57864  -82.59578   \n",
       "2   BonPaul                  NaN          28806  35.57864  -82.59578   \n",
       "3   BonPaul                  NaN          28806  35.57864  -82.59578   \n",
       "4      Timo                  NaN          28806  35.57808  -82.63689   \n",
       "\n",
       "         room_type  price  minimum_nights  number_of_reviews last_review  \\\n",
       "0  Entire home/apt    100              30                 92  2022-12-11   \n",
       "1  Entire home/apt    101               1                389  2023-06-11   \n",
       "2     Private room     66               1                 67  2020-01-01   \n",
       "3      Shared room     28               1                327  2023-06-05   \n",
       "4     Private room     45               2                 68  2023-05-28   \n",
       "\n",
       "   reviews_per_month  calculated_host_listings_count  availability_365  \\\n",
       "0               0.64                               2               319   \n",
       "1               2.69                               7               342   \n",
       "2               0.47                               7                 0   \n",
       "3               2.28                               7               365   \n",
       "4               0.51                               2                82   \n",
       "\n",
       "   number_of_reviews_ltm  license  \n",
       "0                      2      NaN  \n",
       "1                     30      NaN  \n",
       "2                      0      NaN  \n",
       "3                     19      NaN  \n",
       "4                     15      NaN  "
      ]
     },
     "execution_count": 41,
     "metadata": {},
     "output_type": "execute_result"
    }
   ],
   "source": [
    "import pandas as pd\n",
    "\n",
    "# Create a DataFrame from the JSON data\n",
    "df = pd.read_csv(r\"listings.csv\")\n",
    "\n",
    "# Display the DataFrame\n",
    "df.head()"
   ]
  },
  {
   "cell_type": "markdown",
   "id": "f8409964",
   "metadata": {},
   "source": [
    "## Finding Missing Values"
   ]
  },
  {
   "cell_type": "code",
   "execution_count": 42,
   "id": "c468b6b9",
   "metadata": {},
   "outputs": [
    {
     "name": "stdout",
     "output_type": "stream",
     "text": [
      "Missing Values:\n",
      "id                                   0\n",
      "name                                 0\n",
      "host_id                              0\n",
      "host_name                            0\n",
      "neighbourhood_group               3239\n",
      "neighbourhood                        0\n",
      "latitude                             0\n",
      "longitude                            0\n",
      "room_type                            0\n",
      "price                                0\n",
      "minimum_nights                       0\n",
      "number_of_reviews                    0\n",
      "last_review                        249\n",
      "reviews_per_month                  249\n",
      "calculated_host_listings_count       0\n",
      "availability_365                     0\n",
      "number_of_reviews_ltm                0\n",
      "license                           3239\n",
      "dtype: int64\n",
      "Missing Value Ratio:\n",
      "id                                0.000000\n",
      "name                              0.000000\n",
      "host_id                           0.000000\n",
      "host_name                         0.000000\n",
      "neighbourhood_group               1.000000\n",
      "neighbourhood                     0.000000\n",
      "latitude                          0.000000\n",
      "longitude                         0.000000\n",
      "room_type                         0.000000\n",
      "price                             0.000000\n",
      "minimum_nights                    0.000000\n",
      "number_of_reviews                 0.000000\n",
      "last_review                       0.076876\n",
      "reviews_per_month                 0.076876\n",
      "calculated_host_listings_count    0.000000\n",
      "availability_365                  0.000000\n",
      "number_of_reviews_ltm             0.000000\n",
      "license                           1.000000\n",
      "dtype: float64\n"
     ]
    }
   ],
   "source": [
    "missing_values = df.isnull().sum()\n",
    "\n",
    "# Print the count of missing values\n",
    "\n",
    "print(\"Missing Values:\")\n",
    "\n",
    "print(missing_values)\n",
    "\n",
    "# Calculate the missing value ratio\n",
    "\n",
    "missing_ratio = df.isnull().mean()\n",
    "\n",
    "# Print the missing value ratio\n",
    "\n",
    "print(\"Missing Value Ratio:\")\n",
    "\n",
    "print(missing_ratio)"
   ]
  },
  {
   "cell_type": "markdown",
   "id": "14681ddd",
   "metadata": {},
   "source": [
    "## Data Cleaning"
   ]
  },
  {
   "cell_type": "code",
   "execution_count": 43,
   "id": "ecba38ec",
   "metadata": {},
   "outputs": [],
   "source": [
    "# Drop specific columns from the DataFrame\n",
    "columns_to_drop = ['neighbourhood_group', 'license']\n",
    "df = df.drop(columns=columns_to_drop)\n",
    "\n",
    "df['reviews_per_month'].fillna(df['reviews_per_month'].mean(),inplace=True)\n",
    "\n",
    "# Dropping Raws which have null values\n",
    "# Did this step because the rest columns with missing values are the review related text and replacement of the text will not be accurate.\n",
    "df = df.dropna()\n",
    "\n",
    "#remove duplicates\n",
    "df = df.drop_duplicates()"
   ]
  },
  {
   "cell_type": "code",
   "execution_count": 44,
   "id": "89336ea3",
   "metadata": {},
   "outputs": [
    {
     "name": "stdout",
     "output_type": "stream",
     "text": [
      "Missing Value Ratio:\n",
      "id                                0.0\n",
      "name                              0.0\n",
      "host_id                           0.0\n",
      "host_name                         0.0\n",
      "neighbourhood                     0.0\n",
      "latitude                          0.0\n",
      "longitude                         0.0\n",
      "room_type                         0.0\n",
      "price                             0.0\n",
      "minimum_nights                    0.0\n",
      "number_of_reviews                 0.0\n",
      "last_review                       0.0\n",
      "reviews_per_month                 0.0\n",
      "calculated_host_listings_count    0.0\n",
      "availability_365                  0.0\n",
      "number_of_reviews_ltm             0.0\n",
      "dtype: float64\n"
     ]
    }
   ],
   "source": [
    "# Calculate the missing value ratio\n",
    "\n",
    "missing_ratio = df.isnull().mean()\n",
    "\n",
    "# Print the missing value ratio\n",
    "\n",
    "print(\"Missing Value Ratio:\")\n",
    "\n",
    "print(missing_ratio)"
   ]
  },
  {
   "cell_type": "markdown",
   "id": "1a5dfd14",
   "metadata": {},
   "source": [
    "## Converting Datatype"
   ]
  },
  {
   "cell_type": "code",
   "execution_count": 45,
   "id": "cecc4921",
   "metadata": {},
   "outputs": [],
   "source": [
    "# Convert the 'last_review' column to datetime type\n",
    "df['last_review'] = pd.to_datetime(df['last_review'])"
   ]
  },
  {
   "cell_type": "markdown",
   "id": "fd245546",
   "metadata": {},
   "source": [
    "## Data Exploration"
   ]
  },
  {
   "cell_type": "code",
   "execution_count": 46,
   "id": "4a621286",
   "metadata": {},
   "outputs": [
    {
     "name": "stdout",
     "output_type": "stream",
     "text": [
      "Data Structure:\n",
      "<class 'pandas.core.frame.DataFrame'>\n",
      "Int64Index: 2990 entries, 0 to 3216\n",
      "Data columns (total 16 columns):\n",
      " #   Column                          Non-Null Count  Dtype         \n",
      "---  ------                          --------------  -----         \n",
      " 0   id                              2990 non-null   int64         \n",
      " 1   name                            2990 non-null   object        \n",
      " 2   host_id                         2990 non-null   int64         \n",
      " 3   host_name                       2990 non-null   object        \n",
      " 4   neighbourhood                   2990 non-null   int64         \n",
      " 5   latitude                        2990 non-null   float64       \n",
      " 6   longitude                       2990 non-null   float64       \n",
      " 7   room_type                       2990 non-null   object        \n",
      " 8   price                           2990 non-null   int64         \n",
      " 9   minimum_nights                  2990 non-null   int64         \n",
      " 10  number_of_reviews               2990 non-null   int64         \n",
      " 11  last_review                     2990 non-null   datetime64[ns]\n",
      " 12  reviews_per_month               2990 non-null   float64       \n",
      " 13  calculated_host_listings_count  2990 non-null   int64         \n",
      " 14  availability_365                2990 non-null   int64         \n",
      " 15  number_of_reviews_ltm           2990 non-null   int64         \n",
      "dtypes: datetime64[ns](1), float64(3), int64(9), object(3)\n",
      "memory usage: 397.1+ KB\n",
      "None\n",
      "-------\n",
      "\n",
      "\n",
      "Data Variables:\n",
      "Index(['id', 'name', 'host_id', 'host_name', 'neighbourhood', 'latitude',\n",
      "       'longitude', 'room_type', 'price', 'minimum_nights',\n",
      "       'number_of_reviews', 'last_review', 'reviews_per_month',\n",
      "       'calculated_host_listings_count', 'availability_365',\n",
      "       'number_of_reviews_ltm'],\n",
      "      dtype='object')\n",
      "-------\n",
      "\n",
      "\n"
     ]
    }
   ],
   "source": [
    "import pandas as pd\n",
    "\n",
    "#examine the structure of the data\n",
    "print(\"Data Structure:\")\n",
    "print(df.info())\n",
    "print(\"-------\")\n",
    "print(\"\\n\")\n",
    "\n",
    "print(\"Data Variables:\")\n",
    "print(df.columns)\n",
    "print(\"-------\")\n",
    "print(\"\\n\")"
   ]
  },
  {
   "cell_type": "markdown",
   "id": "f4a6de96",
   "metadata": {},
   "source": [
    "## Descriptive Statistics"
   ]
  },
  {
   "cell_type": "code",
   "execution_count": 47,
   "id": "d9847f7a",
   "metadata": {},
   "outputs": [
    {
     "name": "stdout",
     "output_type": "stream",
     "text": [
      "\n",
      " Data Distributions:\n",
      "                 id       host_id  neighbourhood     latitude    longitude  \\\n",
      "count  2.990000e+03  2.990000e+03    2990.000000  2990.000000  2990.000000   \n",
      "mean   1.799870e+17  1.420192e+08   28792.436789    35.575941   -82.558182   \n",
      "std    3.129743e+17  1.408386e+08      30.643154     0.049181     0.048192   \n",
      "min    1.080610e+05  4.134000e+03   28704.000000    35.422810   -82.691050   \n",
      "25%    2.440421e+07  2.507441e+07   28801.000000    35.559943   -82.593051   \n",
      "50%    4.332564e+07  9.630012e+07   28804.000000    35.587090   -82.557385   \n",
      "75%    5.513837e+17  2.055225e+08   28806.000000    35.605767   -82.520815   \n",
      "max    9.079704e+17  5.150519e+08   28806.000000    35.656090   -82.459420   \n",
      "\n",
      "             price  minimum_nights  number_of_reviews  reviews_per_month  \\\n",
      "count  2990.000000     2990.000000        2990.000000        2990.000000   \n",
      "mean    175.561538        4.689298         104.891639           2.569973   \n",
      "std     143.177045       10.049698         131.322397           2.146080   \n",
      "min      19.000000        1.000000           1.000000           0.010000   \n",
      "25%      94.000000        1.000000          16.000000           0.990000   \n",
      "50%     135.000000        2.000000          56.000000           2.045000   \n",
      "75%     211.000000        2.000000         145.750000           3.590000   \n",
      "max    2059.000000      180.000000        1196.000000          14.790000   \n",
      "\n",
      "       calculated_host_listings_count  availability_365  number_of_reviews_ltm  \n",
      "count                     2990.000000       2990.000000            2990.000000  \n",
      "mean                         8.717057        204.199331              24.083278  \n",
      "std                         22.528526        120.500280              24.969063  \n",
      "min                          1.000000          0.000000               0.000000  \n",
      "25%                          1.000000         95.000000               5.000000  \n",
      "50%                          1.000000        220.000000              17.000000  \n",
      "75%                          4.000000        321.000000              35.000000  \n",
      "max                        113.000000        365.000000             183.000000  \n",
      "\n",
      " Data Objects:\n",
      "                                                     name host_name  \\\n",
      "count                                                2990      2990   \n",
      "unique                                               2028      1091   \n",
      "top     Guest suite in Asheville · ★5.0 · 1 bedroom · ...     Towns   \n",
      "freq                                                   32       113   \n",
      "\n",
      "              room_type  \n",
      "count              2990  \n",
      "unique                4  \n",
      "top     Entire home/apt  \n",
      "freq               2628  \n",
      "\n",
      "Mean:\n",
      "id                                1.799870e+17\n",
      "host_id                           1.420192e+08\n",
      "neighbourhood                     2.879244e+04\n",
      "latitude                          3.557594e+01\n",
      "longitude                        -8.255818e+01\n",
      "price                             1.755615e+02\n",
      "minimum_nights                    4.689298e+00\n",
      "number_of_reviews                 1.048916e+02\n",
      "reviews_per_month                 2.569973e+00\n",
      "calculated_host_listings_count    8.717057e+00\n",
      "availability_365                  2.041993e+02\n",
      "number_of_reviews_ltm             2.408328e+01\n",
      "Name: mean, dtype: float64\n",
      "\n",
      "Median:\n",
      "id                                4.332564e+07\n",
      "host_id                           9.630012e+07\n",
      "neighbourhood                     2.880400e+04\n",
      "latitude                          3.558709e+01\n",
      "longitude                        -8.255738e+01\n",
      "price                             1.350000e+02\n",
      "minimum_nights                    2.000000e+00\n",
      "number_of_reviews                 5.600000e+01\n",
      "reviews_per_month                 2.045000e+00\n",
      "calculated_host_listings_count    1.000000e+00\n",
      "availability_365                  2.200000e+02\n",
      "number_of_reviews_ltm             1.700000e+01\n",
      "Name: 50%, dtype: float64\n",
      "\n",
      "Standard Deviation:\n",
      "id                                3.129743e+17\n",
      "host_id                           1.408386e+08\n",
      "neighbourhood                     3.064315e+01\n",
      "latitude                          4.918057e-02\n",
      "longitude                         4.819240e-02\n",
      "price                             1.431770e+02\n",
      "minimum_nights                    1.004970e+01\n",
      "number_of_reviews                 1.313224e+02\n",
      "reviews_per_month                 2.146080e+00\n",
      "calculated_host_listings_count    2.252853e+01\n",
      "availability_365                  1.205003e+02\n",
      "number_of_reviews_ltm             2.496906e+01\n",
      "Name: std, dtype: float64\n"
     ]
    }
   ],
   "source": [
    "print(\"\\n Data Distributions:\")\n",
    "\n",
    "print(df.describe())\n",
    "print(\"\\n Data Objects:\")\n",
    "print(df.describe(include=['object']))\n",
    "\n",
    "# Plotting the mean, median and mode\n",
    "mean = df.describe().loc['mean']\n",
    "meadian = df.describe().loc['50%']\n",
    "std = df.describe().loc['std']\n",
    "\n",
    "print(\"\\nMean:\")\n",
    "print(mean)\n",
    "print(\"\\nMedian:\")\n",
    "print(meadian)\n",
    "print(\"\\nStandard Deviation:\")\n",
    "print(std)"
   ]
  },
  {
   "cell_type": "markdown",
   "id": "f9343358",
   "metadata": {},
   "source": [
    "## Handling Outliers"
   ]
  },
  {
   "cell_type": "code",
   "execution_count": 101,
   "id": "ebd137d4",
   "metadata": {},
   "outputs": [],
   "source": [
    "import pandas as pd\n",
    "\n",
    "import numpy as np\n",
    "\n",
    "from scipy.stats import mstats\n",
    "\n",
    "columns = ['neighbourhood','minimum_nights', 'number_of_reviews',\n",
    "    'reviews_per_month', 'calculated_host_listings_count', 'availability_365',\n",
    "    'number_of_reviews_ltm']  \n",
    "\n",
    "# Replace outliers with a threshold value (e.g., 3 standard deviations)\n",
    "\n",
    "threshold = 3\n",
    "\n",
    "for column in columns:\n",
    "    \n",
    "    data=df[column]\n",
    "    \n",
    "    median = np.median(data)\n",
    "\n",
    "    mad = np.median(np.abs(data - median))\n",
    "    \n",
    "    # Calculate modified Z-scores\n",
    "\n",
    "    #The value 0.6745 is a constant factor used in the modified Z-score calculation. It is derived from the inverse of the cumulative distribution function (CDF) of the standard normal distribution at a specific percentile.\n",
    "\n",
    "    modified_z_scores = 0.6745 * (data - median) / mad\n",
    "\n",
    "    # Find outliers\n",
    "\n",
    "    outliers = np.where(np.abs(modified_z_scores) > threshold)\n",
    "    # Print the indices of outliers\n",
    "    #print(\"Indices of Outliers:\", outliers)\n",
    "        \n",
    "# Apply winsorization\n",
    "columns_with_outliers = ['neighbourhood','minimum_nights', 'number_of_reviews',\n",
    "    'reviews_per_month', 'calculated_host_listings_count', 'availability_365','number_of_reviews_ltm']  \n",
    "\n",
    "for column in columns_with_outliers:\n",
    "    data=df[column]\n",
    "    winsorized_data = mstats.winsorize(data, limits=[0.10, 0.10])\n",
    "    data = winsorized_data.astype(float)\n",
    "    df[column] = data\n"
   ]
  },
  {
   "cell_type": "code",
   "execution_count": 49,
   "id": "050d94f4",
   "metadata": {
    "scrolled": true
   },
   "outputs": [
    {
     "data": {
      "text/html": [
       "<div>\n",
       "<style scoped>\n",
       "    .dataframe tbody tr th:only-of-type {\n",
       "        vertical-align: middle;\n",
       "    }\n",
       "\n",
       "    .dataframe tbody tr th {\n",
       "        vertical-align: top;\n",
       "    }\n",
       "\n",
       "    .dataframe thead th {\n",
       "        text-align: right;\n",
       "    }\n",
       "</style>\n",
       "<table border=\"1\" class=\"dataframe\">\n",
       "  <thead>\n",
       "    <tr style=\"text-align: right;\">\n",
       "      <th></th>\n",
       "      <th>id</th>\n",
       "      <th>name</th>\n",
       "      <th>host_id</th>\n",
       "      <th>host_name</th>\n",
       "      <th>neighbourhood</th>\n",
       "      <th>latitude</th>\n",
       "      <th>longitude</th>\n",
       "      <th>room_type</th>\n",
       "      <th>price</th>\n",
       "      <th>minimum_nights</th>\n",
       "      <th>number_of_reviews</th>\n",
       "      <th>last_review</th>\n",
       "      <th>reviews_per_month</th>\n",
       "      <th>calculated_host_listings_count</th>\n",
       "      <th>availability_365</th>\n",
       "      <th>number_of_reviews_ltm</th>\n",
       "    </tr>\n",
       "  </thead>\n",
       "  <tbody>\n",
       "    <tr>\n",
       "      <th>0</th>\n",
       "      <td>108061</td>\n",
       "      <td>Rental unit in Asheville · ★4.51 · 1 bedroom ·...</td>\n",
       "      <td>320564</td>\n",
       "      <td>Lisa</td>\n",
       "      <td>28801.0</td>\n",
       "      <td>35.60670</td>\n",
       "      <td>-82.55563</td>\n",
       "      <td>Entire home/apt</td>\n",
       "      <td>100</td>\n",
       "      <td>7.0</td>\n",
       "      <td>92.0</td>\n",
       "      <td>2022-12-11</td>\n",
       "      <td>0.64</td>\n",
       "      <td>2.0</td>\n",
       "      <td>319.0</td>\n",
       "      <td>2.0</td>\n",
       "    </tr>\n",
       "    <tr>\n",
       "      <th>1</th>\n",
       "      <td>155305</td>\n",
       "      <td>Guesthouse in Asheville · ★4.59 · 1 bedroom · ...</td>\n",
       "      <td>746673</td>\n",
       "      <td>BonPaul</td>\n",
       "      <td>28806.0</td>\n",
       "      <td>35.57864</td>\n",
       "      <td>-82.59578</td>\n",
       "      <td>Entire home/apt</td>\n",
       "      <td>101</td>\n",
       "      <td>1.0</td>\n",
       "      <td>274.0</td>\n",
       "      <td>2023-06-11</td>\n",
       "      <td>2.69</td>\n",
       "      <td>7.0</td>\n",
       "      <td>342.0</td>\n",
       "      <td>30.0</td>\n",
       "    </tr>\n",
       "    <tr>\n",
       "      <th>2</th>\n",
       "      <td>156805</td>\n",
       "      <td>Home in Asheville · ★4.52 · 1 bedroom · 1 bed ...</td>\n",
       "      <td>746673</td>\n",
       "      <td>BonPaul</td>\n",
       "      <td>28806.0</td>\n",
       "      <td>35.57864</td>\n",
       "      <td>-82.59578</td>\n",
       "      <td>Private room</td>\n",
       "      <td>66</td>\n",
       "      <td>1.0</td>\n",
       "      <td>67.0</td>\n",
       "      <td>2020-01-01</td>\n",
       "      <td>0.47</td>\n",
       "      <td>7.0</td>\n",
       "      <td>17.0</td>\n",
       "      <td>1.0</td>\n",
       "    </tr>\n",
       "    <tr>\n",
       "      <th>3</th>\n",
       "      <td>156926</td>\n",
       "      <td>Hostel in Asheville · ★4.69 · 1 bedroom · 6 be...</td>\n",
       "      <td>746673</td>\n",
       "      <td>BonPaul</td>\n",
       "      <td>28806.0</td>\n",
       "      <td>35.57864</td>\n",
       "      <td>-82.59578</td>\n",
       "      <td>Shared room</td>\n",
       "      <td>28</td>\n",
       "      <td>1.0</td>\n",
       "      <td>274.0</td>\n",
       "      <td>2023-06-05</td>\n",
       "      <td>2.28</td>\n",
       "      <td>7.0</td>\n",
       "      <td>347.0</td>\n",
       "      <td>19.0</td>\n",
       "    </tr>\n",
       "    <tr>\n",
       "      <th>4</th>\n",
       "      <td>197263</td>\n",
       "      <td>Home in Asheville · ★4.96 · 1 bedroom · 1 bed ...</td>\n",
       "      <td>961396</td>\n",
       "      <td>Timo</td>\n",
       "      <td>28806.0</td>\n",
       "      <td>35.57808</td>\n",
       "      <td>-82.63689</td>\n",
       "      <td>Private room</td>\n",
       "      <td>45</td>\n",
       "      <td>2.0</td>\n",
       "      <td>68.0</td>\n",
       "      <td>2023-05-28</td>\n",
       "      <td>0.51</td>\n",
       "      <td>2.0</td>\n",
       "      <td>82.0</td>\n",
       "      <td>15.0</td>\n",
       "    </tr>\n",
       "  </tbody>\n",
       "</table>\n",
       "</div>"
      ],
      "text/plain": [
       "       id                                               name  host_id  \\\n",
       "0  108061  Rental unit in Asheville · ★4.51 · 1 bedroom ·...   320564   \n",
       "1  155305  Guesthouse in Asheville · ★4.59 · 1 bedroom · ...   746673   \n",
       "2  156805  Home in Asheville · ★4.52 · 1 bedroom · 1 bed ...   746673   \n",
       "3  156926  Hostel in Asheville · ★4.69 · 1 bedroom · 6 be...   746673   \n",
       "4  197263  Home in Asheville · ★4.96 · 1 bedroom · 1 bed ...   961396   \n",
       "\n",
       "  host_name  neighbourhood  latitude  longitude        room_type  price  \\\n",
       "0      Lisa        28801.0  35.60670  -82.55563  Entire home/apt    100   \n",
       "1   BonPaul        28806.0  35.57864  -82.59578  Entire home/apt    101   \n",
       "2   BonPaul        28806.0  35.57864  -82.59578     Private room     66   \n",
       "3   BonPaul        28806.0  35.57864  -82.59578      Shared room     28   \n",
       "4      Timo        28806.0  35.57808  -82.63689     Private room     45   \n",
       "\n",
       "   minimum_nights  number_of_reviews last_review  reviews_per_month  \\\n",
       "0             7.0               92.0  2022-12-11               0.64   \n",
       "1             1.0              274.0  2023-06-11               2.69   \n",
       "2             1.0               67.0  2020-01-01               0.47   \n",
       "3             1.0              274.0  2023-06-05               2.28   \n",
       "4             2.0               68.0  2023-05-28               0.51   \n",
       "\n",
       "   calculated_host_listings_count  availability_365  number_of_reviews_ltm  \n",
       "0                             2.0             319.0                    2.0  \n",
       "1                             7.0             342.0                   30.0  \n",
       "2                             7.0              17.0                    1.0  \n",
       "3                             7.0             347.0                   19.0  \n",
       "4                             2.0              82.0                   15.0  "
      ]
     },
     "execution_count": 49,
     "metadata": {},
     "output_type": "execute_result"
    }
   ],
   "source": [
    "# Printing head of Final clean dataset\n",
    "df.head()"
   ]
  },
  {
   "cell_type": "markdown",
   "id": "4c11aa02",
   "metadata": {},
   "source": [
    "# Data Visualization"
   ]
  },
  {
   "cell_type": "code",
   "execution_count": 50,
   "id": "13de3a63",
   "metadata": {},
   "outputs": [
    {
     "data": {
      "image/png": "[encoded data removed]",
      "text/plain": [
       "<Figure size 1000x600 with 1 Axes>"
      ]
     },
     "metadata": {},
     "output_type": "display_data"
    }
   ],
   "source": [
    "# Sort the DataFrame by 'price' in descending order\n",
    "df_sorted = df.sort_values(by='price', ascending=False)\n",
    "\n",
    "# Get the top 5 most expensive rooms\n",
    "top_5_expensive = df_sorted.head(5)\n",
    "\n",
    "# Create a horizontal bar chart\n",
    "plt.figure(figsize=(10, 6))\n",
    "plt.barh(top_5_expensive['name'], top_5_expensive['price'], color='skyblue')\n",
    "plt.xlabel('Price')\n",
    "plt.ylabel('Room Name')\n",
    "plt.title('Top 5 Most Expensive Rooms')\n",
    "plt.gca().invert_yaxis()  # Invert the y-axis to show the most expensive room on top\n",
    "plt.show()"
   ]
  },
  {
   "cell_type": "markdown",
   "id": "8ed3761c",
   "metadata": {},
   "source": [
    "This graph reveals the most expensive room types with their facilities, types and locations"
   ]
  },
  {
   "cell_type": "code",
   "execution_count": 51,
   "id": "9d1ebfcf",
   "metadata": {},
   "outputs": [
    {
     "data": {
      "image/png": "[encoded data removed]",
      "text/plain": [
       "<Figure size 1000x600 with 1 Axes>"
      ]
     },
     "metadata": {},
     "output_type": "display_data"
    }
   ],
   "source": [
    "# Visual 2: Bar chart using Matplotlib\n",
    "plt.figure(figsize=(10, 6))\n",
    "sns.barplot(x='room_type', y='number_of_reviews', data=df)\n",
    "plt.xlabel('Room Type')\n",
    "plt.ylabel('Number of Reviews')\n",
    "plt.title('Bar chart of Number of Reviews by Room Type')\n",
    "plt.show()"
   ]
  },
  {
   "cell_type": "markdown",
   "id": "13656107",
   "metadata": {},
   "source": [
    "The above visual gives the knowledge on number of reviews on the different room types of Airbnb"
   ]
  },
  {
   "cell_type": "code",
   "execution_count": 52,
   "id": "cecc8a8d",
   "metadata": {},
   "outputs": [
    {
     "data": {
      "image/png": "[encoded data removed]",
      "text/plain": [
       "<Figure size 1000x600 with 1 Axes>"
      ]
     },
     "metadata": {},
     "output_type": "display_data"
    }
   ],
   "source": [
    "# Get the top 5 most expensive room types\n",
    "top_5_expensive = df.nlargest(5, 'price')\n",
    "\n",
    "# Visual 6: Horizontal bar chart using Matplotlib for top 5 most expensive room types\n",
    "plt.figure(figsize=(10, 6))\n",
    "plt.barh(top_5_expensive['room_type'], top_5_expensive['price'])\n",
    "plt.xlabel('Average Price')\n",
    "plt.ylabel('Room Type')\n",
    "plt.title('Room Type By Average Price')\n",
    "plt.show()"
   ]
  },
  {
   "cell_type": "markdown",
   "id": "da0c7f3e",
   "metadata": {},
   "source": [
    "The insight gain from the above graph is that Hotel room cost the highest!!!"
   ]
  },
  {
   "cell_type": "code",
   "execution_count": 53,
   "id": "a2d8646a",
   "metadata": {},
   "outputs": [
    {
     "data": {
      "image/png": "[encoded data removed]",
      "text/plain": [
       "<Figure size 800x800 with 1 Axes>"
      ]
     },
     "metadata": {},
     "output_type": "display_data"
    }
   ],
   "source": [
    "# Count the number of occurrences of each room type\n",
    "room_type_counts = df['room_type'].value_counts()\n",
    "\n",
    "\n",
    "# Visual 6: Pie chart using Matplotlib to show the distribution of room types\n",
    "plt.figure(figsize=(8, 8))\n",
    "plt.pie(room_type_counts, labels=room_type_counts.index, autopct='%1.1f%%', startangle=140)\n",
    "plt.title('Distribution of Room Types')\n",
    "plt.axis('equal')  # Equal aspect ratio ensures that pie is drawn as a circle.\n",
    "plt.show()"
   ]
  },
  {
   "cell_type": "markdown",
   "id": "dfc7acb1",
   "metadata": {},
   "source": [
    "## Feature Engineering"
   ]
  },
  {
   "cell_type": "code",
   "execution_count": 76,
   "id": "164f4a83",
   "metadata": {},
   "outputs": [
    {
     "data": {
      "text/html": [
       "<div>\n",
       "<style scoped>\n",
       "    .dataframe tbody tr th:only-of-type {\n",
       "        vertical-align: middle;\n",
       "    }\n",
       "\n",
       "    .dataframe tbody tr th {\n",
       "        vertical-align: top;\n",
       "    }\n",
       "\n",
       "    .dataframe thead th {\n",
       "        text-align: right;\n",
       "    }\n",
       "</style>\n",
       "<table border=\"1\" class=\"dataframe\">\n",
       "  <thead>\n",
       "    <tr style=\"text-align: right;\">\n",
       "      <th></th>\n",
       "      <th>id</th>\n",
       "      <th>name</th>\n",
       "      <th>host_id</th>\n",
       "      <th>host_name</th>\n",
       "      <th>neighbourhood</th>\n",
       "      <th>latitude</th>\n",
       "      <th>longitude</th>\n",
       "      <th>room_type</th>\n",
       "      <th>price</th>\n",
       "      <th>minimum_nights</th>\n",
       "      <th>number_of_reviews</th>\n",
       "      <th>last_review</th>\n",
       "      <th>reviews_per_month</th>\n",
       "      <th>calculated_host_listings_count</th>\n",
       "      <th>availability_365</th>\n",
       "      <th>number_of_reviews_ltm</th>\n",
       "    </tr>\n",
       "  </thead>\n",
       "  <tbody>\n",
       "    <tr>\n",
       "      <th>0</th>\n",
       "      <td>108061</td>\n",
       "      <td>Rental unit in Asheville · ★4.51 · 1 bedroom ·...</td>\n",
       "      <td>320564</td>\n",
       "      <td>Lisa</td>\n",
       "      <td>28801.0</td>\n",
       "      <td>35.60670</td>\n",
       "      <td>-82.55563</td>\n",
       "      <td>0</td>\n",
       "      <td>100</td>\n",
       "      <td>7.0</td>\n",
       "      <td>92.0</td>\n",
       "      <td>2022-12-11</td>\n",
       "      <td>0.64</td>\n",
       "      <td>2.0</td>\n",
       "      <td>319.0</td>\n",
       "      <td>2.0</td>\n",
       "    </tr>\n",
       "    <tr>\n",
       "      <th>1</th>\n",
       "      <td>155305</td>\n",
       "      <td>Guesthouse in Asheville · ★4.59 · 1 bedroom · ...</td>\n",
       "      <td>746673</td>\n",
       "      <td>BonPaul</td>\n",
       "      <td>28806.0</td>\n",
       "      <td>35.57864</td>\n",
       "      <td>-82.59578</td>\n",
       "      <td>0</td>\n",
       "      <td>101</td>\n",
       "      <td>1.0</td>\n",
       "      <td>274.0</td>\n",
       "      <td>2023-06-11</td>\n",
       "      <td>2.69</td>\n",
       "      <td>7.0</td>\n",
       "      <td>342.0</td>\n",
       "      <td>30.0</td>\n",
       "    </tr>\n",
       "    <tr>\n",
       "      <th>2</th>\n",
       "      <td>156805</td>\n",
       "      <td>Home in Asheville · ★4.52 · 1 bedroom · 1 bed ...</td>\n",
       "      <td>746673</td>\n",
       "      <td>BonPaul</td>\n",
       "      <td>28806.0</td>\n",
       "      <td>35.57864</td>\n",
       "      <td>-82.59578</td>\n",
       "      <td>1</td>\n",
       "      <td>66</td>\n",
       "      <td>1.0</td>\n",
       "      <td>67.0</td>\n",
       "      <td>2020-01-01</td>\n",
       "      <td>0.47</td>\n",
       "      <td>7.0</td>\n",
       "      <td>17.0</td>\n",
       "      <td>1.0</td>\n",
       "    </tr>\n",
       "    <tr>\n",
       "      <th>3</th>\n",
       "      <td>156926</td>\n",
       "      <td>Hostel in Asheville · ★4.69 · 1 bedroom · 6 be...</td>\n",
       "      <td>746673</td>\n",
       "      <td>BonPaul</td>\n",
       "      <td>28806.0</td>\n",
       "      <td>35.57864</td>\n",
       "      <td>-82.59578</td>\n",
       "      <td>2</td>\n",
       "      <td>28</td>\n",
       "      <td>1.0</td>\n",
       "      <td>274.0</td>\n",
       "      <td>2023-06-05</td>\n",
       "      <td>2.28</td>\n",
       "      <td>7.0</td>\n",
       "      <td>347.0</td>\n",
       "      <td>19.0</td>\n",
       "    </tr>\n",
       "    <tr>\n",
       "      <th>4</th>\n",
       "      <td>197263</td>\n",
       "      <td>Home in Asheville · ★4.96 · 1 bedroom · 1 bed ...</td>\n",
       "      <td>961396</td>\n",
       "      <td>Timo</td>\n",
       "      <td>28806.0</td>\n",
       "      <td>35.57808</td>\n",
       "      <td>-82.63689</td>\n",
       "      <td>1</td>\n",
       "      <td>45</td>\n",
       "      <td>2.0</td>\n",
       "      <td>68.0</td>\n",
       "      <td>2023-05-28</td>\n",
       "      <td>0.51</td>\n",
       "      <td>2.0</td>\n",
       "      <td>82.0</td>\n",
       "      <td>15.0</td>\n",
       "    </tr>\n",
       "  </tbody>\n",
       "</table>\n",
       "</div>"
      ],
      "text/plain": [
       "       id                                               name  host_id  \\\n",
       "0  108061  Rental unit in Asheville · ★4.51 · 1 bedroom ·...   320564   \n",
       "1  155305  Guesthouse in Asheville · ★4.59 · 1 bedroom · ...   746673   \n",
       "2  156805  Home in Asheville · ★4.52 · 1 bedroom · 1 bed ...   746673   \n",
       "3  156926  Hostel in Asheville · ★4.69 · 1 bedroom · 6 be...   746673   \n",
       "4  197263  Home in Asheville · ★4.96 · 1 bedroom · 1 bed ...   961396   \n",
       "\n",
       "  host_name  neighbourhood  latitude  longitude  room_type  price  \\\n",
       "0      Lisa        28801.0  35.60670  -82.55563          0    100   \n",
       "1   BonPaul        28806.0  35.57864  -82.59578          0    101   \n",
       "2   BonPaul        28806.0  35.57864  -82.59578          1     66   \n",
       "3   BonPaul        28806.0  35.57864  -82.59578          2     28   \n",
       "4      Timo        28806.0  35.57808  -82.63689          1     45   \n",
       "\n",
       "   minimum_nights  number_of_reviews last_review  reviews_per_month  \\\n",
       "0             7.0               92.0  2022-12-11               0.64   \n",
       "1             1.0              274.0  2023-06-11               2.69   \n",
       "2             1.0               67.0  2020-01-01               0.47   \n",
       "3             1.0              274.0  2023-06-05               2.28   \n",
       "4             2.0               68.0  2023-05-28               0.51   \n",
       "\n",
       "   calculated_host_listings_count  availability_365  number_of_reviews_ltm  \n",
       "0                             2.0             319.0                    2.0  \n",
       "1                             7.0             342.0                   30.0  \n",
       "2                             7.0              17.0                    1.0  \n",
       "3                             7.0             347.0                   19.0  \n",
       "4                             2.0              82.0                   15.0  "
      ]
     },
     "execution_count": 76,
     "metadata": {},
     "output_type": "execute_result"
    }
   ],
   "source": [
    "df['room_type']=pd.factorize(df['room_type'])[0]\n",
    "df.head()"
   ]
  },
  {
   "cell_type": "markdown",
   "id": "7837a3f1",
   "metadata": {},
   "source": [
    "## Correlation Matrix for Dimesionality Reduction"
   ]
  },
  {
   "cell_type": "code",
   "execution_count": 55,
   "id": "59caa36d",
   "metadata": {},
   "outputs": [
    {
     "name": "stdout",
     "output_type": "stream",
     "text": [
      "                                  id  host_id  neighbourhood  latitude  \\\n",
      "id                              1.00     0.34          -0.07     -0.07   \n",
      "host_id                         0.34     1.00          -0.11     -0.12   \n",
      "neighbourhood                  -0.07    -0.11           1.00      0.74   \n",
      "latitude                       -0.07    -0.12           0.74      1.00   \n",
      "longitude                      -0.01    -0.04          -0.05     -0.17   \n",
      "room_type                      -0.09    -0.06           0.04      0.03   \n",
      "price                           0.05     0.08           0.01      0.03   \n",
      "minimum_nights                 -0.07    -0.11           0.07      0.05   \n",
      "number_of_reviews              -0.46    -0.27           0.10      0.08   \n",
      "reviews_per_month              -0.03    -0.01           0.05      0.02   \n",
      "calculated_host_listings_count  0.08     0.14          -0.02      0.01   \n",
      "availability_365                0.15     0.19          -0.07     -0.06   \n",
      "number_of_reviews_ltm          -0.18    -0.05           0.07      0.05   \n",
      "\n",
      "                                longitude  room_type  price  minimum_nights  \\\n",
      "id                                  -0.01      -0.09   0.05           -0.07   \n",
      "host_id                             -0.04      -0.06   0.08           -0.11   \n",
      "neighbourhood                       -0.05       0.04   0.01            0.07   \n",
      "latitude                            -0.17       0.03   0.03            0.05   \n",
      "longitude                            1.00      -0.02   0.07            0.04   \n",
      "room_type                           -0.02       1.00  -0.07           -0.09   \n",
      "price                                0.07      -0.07   1.00           -0.07   \n",
      "minimum_nights                       0.04      -0.09  -0.07            1.00   \n",
      "number_of_reviews                   -0.02      -0.03  -0.19           -0.23   \n",
      "reviews_per_month                   -0.09      -0.12  -0.16           -0.38   \n",
      "calculated_host_listings_count       0.05      -0.04   0.19           -0.21   \n",
      "availability_365                     0.04      -0.11   0.14           -0.12   \n",
      "number_of_reviews_ltm               -0.06      -0.12  -0.11           -0.37   \n",
      "\n",
      "                                number_of_reviews  reviews_per_month  \\\n",
      "id                                          -0.46              -0.03   \n",
      "host_id                                     -0.27              -0.01   \n",
      "neighbourhood                                0.10               0.05   \n",
      "latitude                                     0.08               0.02   \n",
      "longitude                                   -0.02              -0.09   \n",
      "room_type                                   -0.03              -0.12   \n",
      "price                                       -0.19              -0.16   \n",
      "minimum_nights                              -0.23              -0.38   \n",
      "number_of_reviews                            1.00               0.69   \n",
      "reviews_per_month                            0.69               1.00   \n",
      "calculated_host_listings_count              -0.18              -0.17   \n",
      "availability_365                            -0.09              -0.02   \n",
      "number_of_reviews_ltm                        0.67               0.85   \n",
      "\n",
      "                                calculated_host_listings_count  \\\n",
      "id                                                        0.08   \n",
      "host_id                                                   0.14   \n",
      "neighbourhood                                            -0.02   \n",
      "latitude                                                  0.01   \n",
      "longitude                                                 0.05   \n",
      "room_type                                                -0.04   \n",
      "price                                                     0.19   \n",
      "minimum_nights                                           -0.21   \n",
      "number_of_reviews                                        -0.18   \n",
      "reviews_per_month                                        -0.17   \n",
      "calculated_host_listings_count                            1.00   \n",
      "availability_365                                          0.35   \n",
      "number_of_reviews_ltm                                    -0.11   \n",
      "\n",
      "                                availability_365  number_of_reviews_ltm  \n",
      "id                                          0.15                  -0.18  \n",
      "host_id                                     0.19                  -0.05  \n",
      "neighbourhood                              -0.07                   0.07  \n",
      "latitude                                   -0.06                   0.05  \n",
      "longitude                                   0.04                  -0.06  \n",
      "room_type                                  -0.11                  -0.12  \n",
      "price                                       0.14                  -0.11  \n",
      "minimum_nights                             -0.12                  -0.37  \n",
      "number_of_reviews                          -0.09                   0.67  \n",
      "reviews_per_month                          -0.02                   0.85  \n",
      "calculated_host_listings_count              0.35                  -0.11  \n",
      "availability_365                            1.00                   0.02  \n",
      "number_of_reviews_ltm                       0.02                   1.00  \n"
     ]
    }
   ],
   "source": [
    "# Looking at the correlation matrix for the maximum correlated variables with the price variable \n",
    "\n",
    "correlation_matrix = df.corr().round(2)\n",
    "print(correlation_matrix)"
   ]
  },
  {
   "cell_type": "markdown",
   "id": "18d7c0c0",
   "metadata": {},
   "source": [
    "## ML Model"
   ]
  },
  {
   "cell_type": "code",
   "execution_count": 96,
   "id": "977b27ef",
   "metadata": {},
   "outputs": [],
   "source": [
    "from sklearn.model_selection import train_test_split\n",
    "from sklearn.metrics import mean_squared_error, mean_absolute_error\n",
    "\n",
    "from sklearn.feature_selection import RFE\n",
    "from sklearn.linear_model import LinearRegression\n",
    "from sklearn.tree import DecisionTreeClassifier\n",
    "from sklearn.ensemble import RandomForestClassifier\n",
    "from sklearn.ensemble import RandomForestRegressor\n",
    "from sklearn.neighbors import KNeighborsClassifier\n",
    "from sklearn.neighbors import KNeighborsRegressor\n",
    "from sklearn import preprocessing\n",
    "import tensorflow as tf\n",
    "from tensorflow import keras\n",
    "from tensorflow.keras import layers\n",
    "from sklearn import metrics"
   ]
  },
  {
   "cell_type": "code",
   "execution_count": 84,
   "id": "565184f0",
   "metadata": {},
   "outputs": [],
   "source": [
    "#Train Test split Model\n",
    "# selected features based on the correlation matrix\n",
    "x = df[['room_type','minimum_nights','number_of_reviews','reviews_per_month','availability_365','calculated_host_listings_count']] # Independet variable\n",
    "y = df['price'] # dependent variable"
   ]
  },
  {
   "cell_type": "code",
   "execution_count": 85,
   "id": "d969c05b",
   "metadata": {},
   "outputs": [
    {
     "name": "stdout",
     "output_type": "stream",
     "text": [
      "room_type                          0.00\n",
      "minimum_nights                     1.00\n",
      "number_of_reviews                  4.00\n",
      "reviews_per_month                  0.34\n",
      "availability_365                  17.00\n",
      "calculated_host_listings_count     1.00\n",
      "dtype: float64\n",
      "room_type                           3.00\n",
      "minimum_nights                      7.00\n",
      "number_of_reviews                 274.00\n",
      "reviews_per_month                   5.46\n",
      "availability_365                  347.00\n",
      "calculated_host_listings_count     15.00\n",
      "dtype: float64\n"
     ]
    }
   ],
   "source": [
    "# Looking at Min and Max\n",
    "\n",
    "print(x.min())\n",
    "print(x.max())"
   ]
  },
  {
   "cell_type": "code",
   "execution_count": 86,
   "id": "7faf08b3",
   "metadata": {},
   "outputs": [],
   "source": [
    "# Applying Normalization on the data for more easier convergence\n",
    "\n",
    "min_max_scaler = preprocessing.MinMaxScaler()\n",
    "x_scaled = min_max_scaler.fit_transform(x)\n",
    "X = pd.DataFrame(x_scaled)"
   ]
  },
  {
   "cell_type": "code",
   "execution_count": 87,
   "id": "9762d108",
   "metadata": {},
   "outputs": [
    {
     "data": {
      "text/html": [
       "<div>\n",
       "<style scoped>\n",
       "    .dataframe tbody tr th:only-of-type {\n",
       "        vertical-align: middle;\n",
       "    }\n",
       "\n",
       "    .dataframe tbody tr th {\n",
       "        vertical-align: top;\n",
       "    }\n",
       "\n",
       "    .dataframe thead th {\n",
       "        text-align: right;\n",
       "    }\n",
       "</style>\n",
       "<table border=\"1\" class=\"dataframe\">\n",
       "  <thead>\n",
       "    <tr style=\"text-align: right;\">\n",
       "      <th></th>\n",
       "      <th>0</th>\n",
       "      <th>1</th>\n",
       "      <th>2</th>\n",
       "      <th>3</th>\n",
       "      <th>4</th>\n",
       "      <th>5</th>\n",
       "    </tr>\n",
       "  </thead>\n",
       "  <tbody>\n",
       "    <tr>\n",
       "      <th>0</th>\n",
       "      <td>0.000000</td>\n",
       "      <td>1.000000</td>\n",
       "      <td>0.325926</td>\n",
       "      <td>0.058594</td>\n",
       "      <td>0.915152</td>\n",
       "      <td>0.071429</td>\n",
       "    </tr>\n",
       "    <tr>\n",
       "      <th>1</th>\n",
       "      <td>0.000000</td>\n",
       "      <td>0.000000</td>\n",
       "      <td>1.000000</td>\n",
       "      <td>0.458984</td>\n",
       "      <td>0.984848</td>\n",
       "      <td>0.428571</td>\n",
       "    </tr>\n",
       "    <tr>\n",
       "      <th>2</th>\n",
       "      <td>0.333333</td>\n",
       "      <td>0.000000</td>\n",
       "      <td>0.233333</td>\n",
       "      <td>0.025391</td>\n",
       "      <td>0.000000</td>\n",
       "      <td>0.428571</td>\n",
       "    </tr>\n",
       "    <tr>\n",
       "      <th>3</th>\n",
       "      <td>0.666667</td>\n",
       "      <td>0.000000</td>\n",
       "      <td>1.000000</td>\n",
       "      <td>0.378906</td>\n",
       "      <td>1.000000</td>\n",
       "      <td>0.428571</td>\n",
       "    </tr>\n",
       "    <tr>\n",
       "      <th>4</th>\n",
       "      <td>0.333333</td>\n",
       "      <td>0.166667</td>\n",
       "      <td>0.237037</td>\n",
       "      <td>0.033203</td>\n",
       "      <td>0.196970</td>\n",
       "      <td>0.071429</td>\n",
       "    </tr>\n",
       "  </tbody>\n",
       "</table>\n",
       "</div>"
      ],
      "text/plain": [
       "          0         1         2         3         4         5\n",
       "0  0.000000  1.000000  0.325926  0.058594  0.915152  0.071429\n",
       "1  0.000000  0.000000  1.000000  0.458984  0.984848  0.428571\n",
       "2  0.333333  0.000000  0.233333  0.025391  0.000000  0.428571\n",
       "3  0.666667  0.000000  1.000000  0.378906  1.000000  0.428571\n",
       "4  0.333333  0.166667  0.237037  0.033203  0.196970  0.071429"
      ]
     },
     "execution_count": 87,
     "metadata": {},
     "output_type": "execute_result"
    }
   ],
   "source": [
    "X.head()"
   ]
  },
  {
   "cell_type": "code",
   "execution_count": 102,
   "id": "6e062bc6",
   "metadata": {},
   "outputs": [],
   "source": [
    "X_train, X_test, y_train, y_test = train_test_split(X,y,test_size=0.2,random_state=1)"
   ]
  },
  {
   "cell_type": "markdown",
   "id": "2e22ac9b",
   "metadata": {},
   "source": [
    "### Linear Regression"
   ]
  },
  {
   "cell_type": "code",
   "execution_count": 103,
   "id": "d7bc3c20",
   "metadata": {},
   "outputs": [
    {
     "data": {
      "text/plain": [
       "LinearRegression()"
      ]
     },
     "execution_count": 103,
     "metadata": {},
     "output_type": "execute_result"
    }
   ],
   "source": [
    "lm = LinearRegression() \n",
    "lm.fit(X_train,y_train)"
   ]
  },
  {
   "cell_type": "code",
   "execution_count": 104,
   "id": "8fcb67dc",
   "metadata": {},
   "outputs": [
    {
     "name": "stdout",
     "output_type": "stream",
     "text": [
      "Mean Squared Error (MSE): 16180.221601419173\n",
      "Mean Absolute Error (MAE): 79.3835146361443\n"
     ]
    }
   ],
   "source": [
    "y_pred = lm.predict(X_test)\n",
    "\n",
    "mse = mean_squared_error(y_test, y_pred)\n",
    "mae = mean_absolute_error(y_test, y_pred)\n",
    "\n",
    "print(\"Mean Squared Error (MSE):\", mse)\n",
    "print(\"Mean Absolute Error (MAE):\", mae)"
   ]
  },
  {
   "cell_type": "markdown",
   "id": "022dbb3d",
   "metadata": {},
   "source": [
    "### Decision Tree"
   ]
  },
  {
   "cell_type": "code",
   "execution_count": 105,
   "id": "9341354d",
   "metadata": {},
   "outputs": [
    {
     "data": {
      "text/plain": [
       "0.030100334448160536"
      ]
     },
     "execution_count": 105,
     "metadata": {},
     "output_type": "execute_result"
    }
   ],
   "source": [
    "classifier = DecisionTreeClassifier(random_state = 1234)\n",
    "dt = classifier.fit(X_train, y_train)\n",
    "dt.score(X_test, y_test)"
   ]
  },
  {
   "cell_type": "code",
   "execution_count": 106,
   "id": "e6a19764",
   "metadata": {},
   "outputs": [
    {
     "name": "stdout",
     "output_type": "stream",
     "text": [
      "Mean Squared Error (MSE): 31912.252508361205\n",
      "Mean Absolute Error (MAE): 101.84448160535118\n"
     ]
    }
   ],
   "source": [
    "y_pred = dt.predict(X_test)\n",
    "mse = mean_squared_error(y_test, y_pred)\n",
    "mae = mean_absolute_error(y_test, y_pred)\n",
    "\n",
    "print(\"Mean Squared Error (MSE):\", mse)\n",
    "print(\"Mean Absolute Error (MAE):\", mae)"
   ]
  },
  {
   "cell_type": "markdown",
   "id": "697b22c4",
   "metadata": {},
   "source": [
    "### Random Forest"
   ]
  },
  {
   "cell_type": "code",
   "execution_count": 107,
   "id": "33ef3c92",
   "metadata": {},
   "outputs": [
    {
     "data": {
      "text/plain": [
       "0.1596036645593003"
      ]
     },
     "execution_count": 107,
     "metadata": {},
     "output_type": "execute_result"
    }
   ],
   "source": [
    "rf = RandomForestRegressor(random_state=42, n_jobs=-1, max_depth=5,n_estimators=100, oob_score=True)\n",
    "rf.fit(X_train, y_train)\n",
    "# checking the oob score\n",
    "rf.oob_score_"
   ]
  },
  {
   "cell_type": "code",
   "execution_count": 108,
   "id": "3e812bbb",
   "metadata": {},
   "outputs": [
    {
     "name": "stdout",
     "output_type": "stream",
     "text": [
      "Mean Squared Error (MSE): 13829.425753896128\n",
      "Mean Absolute Error (MAE): 72.04968368880957\n"
     ]
    }
   ],
   "source": [
    "y_pred_rf = rf.predict(X_test)\n",
    "mse = mean_squared_error(y_test, y_pred_rf)\n",
    "mae = mean_absolute_error(y_test, y_pred_rf)\n",
    "\n",
    "print(\"Mean Squared Error (MSE):\", mse)\n",
    "print(\"Mean Absolute Error (MAE):\", mae)"
   ]
  },
  {
   "cell_type": "markdown",
   "id": "74011480",
   "metadata": {},
   "source": [
    "### KNN"
   ]
  },
  {
   "cell_type": "code",
   "execution_count": 109,
   "id": "90cca9f1",
   "metadata": {},
   "outputs": [
    {
     "data": {
      "text/plain": [
       "0.10388488011513008"
      ]
     },
     "execution_count": 109,
     "metadata": {},
     "output_type": "execute_result"
    }
   ],
   "source": [
    "knn = KNeighborsRegressor(n_neighbors=5)\n",
    "knn.fit(X_train, y_train)\n",
    "y_pred = knn.predict(X_test)\n",
    "knn.score(X_test, y_test)"
   ]
  },
  {
   "cell_type": "code",
   "execution_count": 110,
   "id": "82259f5d",
   "metadata": {},
   "outputs": [
    {
     "name": "stdout",
     "output_type": "stream",
     "text": [
      "Mean Squared Error (MSE): 15780.850903010034\n",
      "Mean Absolute Error (MAE): 76.47926421404684\n"
     ]
    }
   ],
   "source": [
    "y_pred = knn.predict(X_test)\n",
    "mse = mean_squared_error(y_test, y_pred)\n",
    "mae = mean_absolute_error(y_test, y_pred)\n",
    "\n",
    "print(\"Mean Squared Error (MSE):\", mse)\n",
    "print(\"Mean Absolute Error (MAE):\", mae)"
   ]
  },
  {
   "cell_type": "markdown",
   "id": "4e4fb748",
   "metadata": {},
   "source": [
    "### Nueral Network"
   ]
  },
  {
   "cell_type": "code",
   "execution_count": 111,
   "id": "33e8f609",
   "metadata": {},
   "outputs": [
    {
     "name": "stdout",
     "output_type": "stream",
     "text": [
      "Epoch 1/10\n",
      "60/60 [==============================] - 1s 3ms/step - loss: 51143.8672 - val_loss: 48687.1719\n",
      "Epoch 2/10\n",
      "60/60 [==============================] - 0s 1ms/step - loss: 40848.9102 - val_loss: 29585.3594\n",
      "Epoch 3/10\n",
      "60/60 [==============================] - 0s 1ms/step - loss: 25163.8906 - val_loss: 21448.0254\n",
      "Epoch 4/10\n",
      "60/60 [==============================] - 0s 1ms/step - loss: 22969.0898 - val_loss: 20516.6445\n",
      "Epoch 5/10\n",
      "60/60 [==============================] - 0s 1ms/step - loss: 22352.4199 - val_loss: 19893.8730\n",
      "Epoch 6/10\n",
      "60/60 [==============================] - 0s 1ms/step - loss: 21921.0293 - val_loss: 19448.0898\n",
      "Epoch 7/10\n",
      "60/60 [==============================] - 0s 1ms/step - loss: 21623.9238 - val_loss: 19178.9062\n",
      "Epoch 8/10\n",
      "60/60 [==============================] - 0s 1ms/step - loss: 21386.5195 - val_loss: 18860.7051\n",
      "Epoch 9/10\n",
      "60/60 [==============================] - 0s 1ms/step - loss: 21241.9727 - val_loss: 18681.3145\n",
      "Epoch 10/10\n",
      "60/60 [==============================] - 0s 1ms/step - loss: 21064.0410 - val_loss: 18507.5859\n"
     ]
    },
    {
     "data": {
      "text/plain": [
       "<keras.src.callbacks.History at 0x288886f8370>"
      ]
     },
     "execution_count": 111,
     "metadata": {},
     "output_type": "execute_result"
    }
   ],
   "source": [
    "model = keras.Sequential([\n",
    "    layers.Dense(128, activation='relu', input_shape=(X_train.shape[1],)),\n",
    "    layers.Dense(64, activation='relu'),\n",
    "    layers.Dense(1)\n",
    "])\n",
    "model.compile(optimizer='adam', loss='mean_squared_error')\n",
    "model.fit(X_train, y_train, epochs=10, batch_size=32, validation_split=0.2)"
   ]
  },
  {
   "cell_type": "code",
   "execution_count": 112,
   "id": "d1540fc4",
   "metadata": {},
   "outputs": [
    {
     "name": "stdout",
     "output_type": "stream",
     "text": [
      "19/19 [==============================] - 0s 694us/step\n",
      "Mean Squared Error (MSE): 16823.546670644937\n",
      "Mean Absolute Error (MAE): 79.67117287881398\n"
     ]
    }
   ],
   "source": [
    "y_pred = model.predict(X_test)\n",
    "mse = mean_squared_error(y_test, y_pred)\n",
    "mae = mean_absolute_error(y_test, y_pred)\n",
    "\n",
    "print(\"Mean Squared Error (MSE):\", mse)\n",
    "print(\"Mean Absolute Error (MAE):\", mae)"
   ]
  },
  {
   "cell_type": "markdown",
   "id": "c350579d",
   "metadata": {},
   "source": [
    "## we can conclude from all the models that the best model is RandomForest Regressor."
   ]
  },
  {
   "cell_type": "markdown",
   "id": "c1f73024",
   "metadata": {},
   "source": [
    "## Plotting Actual Vs Predicted Price based on Random Forest Regressor Model "
   ]
  },
  {
   "cell_type": "code",
   "execution_count": 113,
   "id": "14fe6281",
   "metadata": {},
   "outputs": [
    {
     "data": {
      "image/png": "[encoded data removed]",
      "text/plain": [
       "<Figure size 1000x600 with 1 Axes>"
      ]
     },
     "metadata": {},
     "output_type": "display_data"
    }
   ],
   "source": [
    "# Create a scatter plot for actual and predicted prices in different colors\n",
    "plt.figure(figsize=(10, 6))\n",
    "plt.scatter(y_test, y_pred_rf, color='blue', alpha=0.5, label='Predicted')\n",
    "plt.scatter(y_test, y_test, color='red', alpha=0.5, label='Actual')  # Plotting actual prices on the same plot\n",
    "plt.xlabel('Actual Prices')\n",
    "plt.ylabel('Predicted Prices')\n",
    "plt.title('Actual Prices vs. Predicted Prices')\n",
    "plt.legend()\n",
    "plt.show()"
   ]
  }
 ],
 "metadata": {
  "kernelspec": {
   "display_name": "Python 3 (ipykernel)",
   "language": "python",
   "name": "python3"
  },
  "language_info": {
   "codemirror_mode": {
    "name": "ipython",
    "version": 3
   },
   "file_extension": ".py",
   "mimetype": "text/x-python",
   "name": "python",
   "nbconvert_exporter": "python",
   "pygments_lexer": "ipython3",
   "version": "3.9.13"
  }
 },
 "nbformat": 4,
 "nbformat_minor": 5
}
